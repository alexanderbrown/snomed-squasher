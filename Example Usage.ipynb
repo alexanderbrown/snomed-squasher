{
 "cells": [
  {
   "cell_type": "markdown",
   "metadata": {},
   "source": [
    "# Overview\n",
    "\n",
    "This notebook demonstrates the process of mapping a set of freetext strings (contained in a text file)  which should be of the form one string per line. \n",
    "\n",
    "- First, the `ConditionMapper` attempts to automatically match each string in the file to a SNOMED condition. \n",
    "    - If this is not possible, it will prompt the user to manually enter a the code for a relevant condition. \n",
    "- Next, the `ConditionMapper` groups these conditions, using multiple automated and semi-automated approaches\n",
    "\n",
    "Mappings are saved incrementally to `.json` files"
   ]
  },
  {
   "cell_type": "markdown",
   "metadata": {},
   "source": [
    "# Setup"
   ]
  },
  {
   "cell_type": "markdown",
   "metadata": {},
   "source": [
    "## Imports"
   ]
  },
  {
   "cell_type": "code",
   "execution_count": 1,
   "metadata": {},
   "outputs": [],
   "source": [
    "\n",
    "from condition_mapping import ConditionMapper\n",
    "from snomed import Snomed\n"
   ]
  },
  {
   "cell_type": "markdown",
   "metadata": {},
   "source": [
    "# Configuration and Initialisation"
   ]
  },
  {
   "cell_type": "code",
   "execution_count": 2,
   "metadata": {},
   "outputs": [
    {
     "name": "stdout",
     "output_type": "stream",
     "text": [
      "Saving mapping to data/example_mapped_1.json... Done\n"
     ]
    }
   ],
   "source": [
    "CM = ConditionMapper(input_file='data/example.txt' , snomed=Snomed())\n",
    "CM.save_mapping()"
   ]
  },
  {
   "cell_type": "markdown",
   "metadata": {},
   "source": [
    "# Load Data and Automatic Mapping"
   ]
  },
  {
   "cell_type": "code",
   "execution_count": 3,
   "metadata": {},
   "outputs": [
    {
     "name": "stdout",
     "output_type": "stream",
     "text": [
      "Automatically mapping conditions to SNOMED-CT...\n",
      "\tAcute Bronchiolitis mapped to Acute bronchiolitis (disorder)\n",
      "\tBronchiolitis mapped to Bronchiolitis (disorder)\n",
      "\tWest syndrome mapped to West syndrome (disorder)\n",
      "\tPneumonia mapped to Pneumonia (disorder)\n",
      "\tLower Respiratory Tract Infection mapped to Lower respiratory tract infection (disorder)\n",
      "\tStatus epilepticus mapped to Status epilepticus (finding)\n",
      "\tRespiratory syncytial virus bronchiolitis mapped to Respiratory syncytial virus bronchiolitis (disorder)\n",
      "\tDravet syndrome mapped to Severe myoclonic epilepsy in infancy (disorder)\n",
      "8 conditions mapped to SNOMED-CT.\n",
      "2 conditions not mapped to SNOMED-CT:\n",
      "\tLennox Gastaut syndrome\n",
      "\tChest infection\n",
      "Saving mapping to data/example_mapped_2.json... Done\n"
     ]
    }
   ],
   "source": [
    "CM.automatically_map_conditions()\n",
    "CM.save_mapping()"
   ]
  },
  {
   "cell_type": "markdown",
   "metadata": {},
   "source": [
    "# Manual Mapping of CUIs"
   ]
  },
  {
   "cell_type": "code",
   "execution_count": 4,
   "metadata": {},
   "outputs": [
    {
     "data": {
      "text/plain": [
       "'Manually mapped 2 conditions to SNOMED-CT:'"
      ]
     },
     "metadata": {},
     "output_type": "display_data"
    },
    {
     "name": "stdout",
     "output_type": "stream",
     "text": [
      "\tLennox Gastaut syndrome mapped to Lennox-Gastaut syndrome (disorder) (230418006)\n",
      "\tChest infection mapped to Pneumonia (disorder) (233604007)\n",
      "0 conditions skipped:\n",
      "Saving mapping to data/example_mapped_3.json... Done\n"
     ]
    }
   ],
   "source": [
    "# This cell runs a loop, asking for manual input of CUIs for unmapped conditions. \n",
    "# To skip a condition, leave the CUI emtpy and press Enter, or press escape\n",
    "\n",
    "CM.get_user_input_cuis()\n",
    "CM.save_mapping()"
   ]
  },
  {
   "cell_type": "markdown",
   "metadata": {},
   "source": [
    "# Groupings"
   ]
  },
  {
   "cell_type": "code",
   "execution_count": 5,
   "metadata": {},
   "outputs": [
    {
     "name": "stdout",
     "output_type": "stream",
     "text": [
      "4 new groupings created.\n",
      "9 new condition -> grouping mappings created.\n",
      "Saving mapping to data/example_mapped_4.json... Done\n"
     ]
    }
   ],
   "source": [
    "CM.group_conditions()\n",
    "CM.save_mapping()"
   ]
  },
  {
   "cell_type": "markdown",
   "metadata": {},
   "source": [
    "# Display Groupings"
   ]
  },
  {
   "cell_type": "code",
   "execution_count": 6,
   "metadata": {},
   "outputs": [
    {
     "data": {
      "text/html": [
       "<div>\n",
       "<style scoped>\n",
       "    .dataframe tbody tr th:only-of-type {\n",
       "        vertical-align: middle;\n",
       "    }\n",
       "\n",
       "    .dataframe tbody tr th {\n",
       "        vertical-align: top;\n",
       "    }\n",
       "\n",
       "    .dataframe thead th {\n",
       "        text-align: right;\n",
       "    }\n",
       "</style>\n",
       "<table border=\"1\" class=\"dataframe\">\n",
       "  <thead>\n",
       "    <tr style=\"text-align: right;\">\n",
       "      <th></th>\n",
       "      <th>condition_cui</th>\n",
       "      <th>condition_name</th>\n",
       "      <th>grouping_cui</th>\n",
       "      <th>grouping_name</th>\n",
       "    </tr>\n",
       "    <tr>\n",
       "      <th>string</th>\n",
       "      <th></th>\n",
       "      <th></th>\n",
       "      <th></th>\n",
       "      <th></th>\n",
       "    </tr>\n",
       "  </thead>\n",
       "  <tbody>\n",
       "    <tr>\n",
       "      <th>Acute Bronchiolitis</th>\n",
       "      <td>5505005</td>\n",
       "      <td>Acute bronchiolitis (disorder)</td>\n",
       "      <td>4120002</td>\n",
       "      <td>Bronchiolitis (disorder)</td>\n",
       "    </tr>\n",
       "    <tr>\n",
       "      <th>Bronchiolitis</th>\n",
       "      <td>4120002</td>\n",
       "      <td>Bronchiolitis (disorder)</td>\n",
       "      <td>4120002</td>\n",
       "      <td>Bronchiolitis (disorder)</td>\n",
       "    </tr>\n",
       "    <tr>\n",
       "      <th>West syndrome</th>\n",
       "      <td>28055006</td>\n",
       "      <td>West syndrome (disorder)</td>\n",
       "      <td>84757009</td>\n",
       "      <td>Epilepsy (disorder)</td>\n",
       "    </tr>\n",
       "    <tr>\n",
       "      <th>Pneumonia</th>\n",
       "      <td>233604007</td>\n",
       "      <td>Pneumonia (disorder)</td>\n",
       "      <td>50417007</td>\n",
       "      <td>Lower respiratory tract infection (disorder)</td>\n",
       "    </tr>\n",
       "    <tr>\n",
       "      <th>Lower Respiratory Tract Infection</th>\n",
       "      <td>50417007</td>\n",
       "      <td>Lower respiratory tract infection (disorder)</td>\n",
       "      <td>50417007</td>\n",
       "      <td>Lower respiratory tract infection (disorder)</td>\n",
       "    </tr>\n",
       "    <tr>\n",
       "      <th>Status epilepticus</th>\n",
       "      <td>230456007</td>\n",
       "      <td>Status epilepticus (finding)</td>\n",
       "      <td>230456007</td>\n",
       "      <td>Status epilepticus (finding)</td>\n",
       "    </tr>\n",
       "    <tr>\n",
       "      <th>Respiratory syncytial virus bronchiolitis</th>\n",
       "      <td>57089007</td>\n",
       "      <td>Respiratory syncytial virus bronchiolitis (dis...</td>\n",
       "      <td>4120002</td>\n",
       "      <td>Bronchiolitis (disorder)</td>\n",
       "    </tr>\n",
       "    <tr>\n",
       "      <th>Dravet syndrome</th>\n",
       "      <td>230437002</td>\n",
       "      <td>Severe myoclonic epilepsy in infancy (disorder)</td>\n",
       "      <td>84757009</td>\n",
       "      <td>Epilepsy (disorder)</td>\n",
       "    </tr>\n",
       "    <tr>\n",
       "      <th>Lennox Gastaut syndrome</th>\n",
       "      <td>230418006</td>\n",
       "      <td>Lennox-Gastaut syndrome (disorder)</td>\n",
       "      <td>84757009</td>\n",
       "      <td>Epilepsy (disorder)</td>\n",
       "    </tr>\n",
       "    <tr>\n",
       "      <th>Chest infection</th>\n",
       "      <td>233604007</td>\n",
       "      <td>Pneumonia (disorder)</td>\n",
       "      <td>50417007</td>\n",
       "      <td>Lower respiratory tract infection (disorder)</td>\n",
       "    </tr>\n",
       "  </tbody>\n",
       "</table>\n",
       "</div>"
      ],
      "text/plain": [
       "                                           condition_cui  \\\n",
       "string                                                     \n",
       "Acute Bronchiolitis                              5505005   \n",
       "Bronchiolitis                                    4120002   \n",
       "West syndrome                                   28055006   \n",
       "Pneumonia                                      233604007   \n",
       "Lower Respiratory Tract Infection               50417007   \n",
       "Status epilepticus                             230456007   \n",
       "Respiratory syncytial virus bronchiolitis       57089007   \n",
       "Dravet syndrome                                230437002   \n",
       "Lennox Gastaut syndrome                        230418006   \n",
       "Chest infection                                233604007   \n",
       "\n",
       "                                                                              condition_name  \\\n",
       "string                                                                                         \n",
       "Acute Bronchiolitis                                           Acute bronchiolitis (disorder)   \n",
       "Bronchiolitis                                                       Bronchiolitis (disorder)   \n",
       "West syndrome                                                       West syndrome (disorder)   \n",
       "Pneumonia                                                               Pneumonia (disorder)   \n",
       "Lower Respiratory Tract Infection               Lower respiratory tract infection (disorder)   \n",
       "Status epilepticus                                              Status epilepticus (finding)   \n",
       "Respiratory syncytial virus bronchiolitis  Respiratory syncytial virus bronchiolitis (dis...   \n",
       "Dravet syndrome                              Severe myoclonic epilepsy in infancy (disorder)   \n",
       "Lennox Gastaut syndrome                                   Lennox-Gastaut syndrome (disorder)   \n",
       "Chest infection                                                         Pneumonia (disorder)   \n",
       "\n",
       "                                           grouping_cui  \\\n",
       "string                                                    \n",
       "Acute Bronchiolitis                             4120002   \n",
       "Bronchiolitis                                   4120002   \n",
       "West syndrome                                  84757009   \n",
       "Pneumonia                                      50417007   \n",
       "Lower Respiratory Tract Infection              50417007   \n",
       "Status epilepticus                            230456007   \n",
       "Respiratory syncytial virus bronchiolitis       4120002   \n",
       "Dravet syndrome                                84757009   \n",
       "Lennox Gastaut syndrome                        84757009   \n",
       "Chest infection                                50417007   \n",
       "\n",
       "                                                                          grouping_name  \n",
       "string                                                                                   \n",
       "Acute Bronchiolitis                                            Bronchiolitis (disorder)  \n",
       "Bronchiolitis                                                  Bronchiolitis (disorder)  \n",
       "West syndrome                                                       Epilepsy (disorder)  \n",
       "Pneumonia                                  Lower respiratory tract infection (disorder)  \n",
       "Lower Respiratory Tract Infection          Lower respiratory tract infection (disorder)  \n",
       "Status epilepticus                                         Status epilepticus (finding)  \n",
       "Respiratory syncytial virus bronchiolitis                      Bronchiolitis (disorder)  \n",
       "Dravet syndrome                                                     Epilepsy (disorder)  \n",
       "Lennox Gastaut syndrome                                             Epilepsy (disorder)  \n",
       "Chest infection                            Lower respiratory tract infection (disorder)  "
      ]
     },
     "execution_count": 6,
     "metadata": {},
     "output_type": "execute_result"
    }
   ],
   "source": [
    "CM.groupings_table"
   ]
  },
  {
   "cell_type": "markdown",
   "metadata": {},
   "source": [
    "# Load - continue from previous session\n",
    "\n",
    "By specifying a `file_number` when creating the `ConditionMapper`, we can load a particular saved mapping. \n",
    "\n",
    "`file_number` of `-1` loads the most recent mapping, and so is a useful way of carrying on from a previous point."
   ]
  },
  {
   "cell_type": "code",
   "execution_count": null,
   "metadata": {},
   "outputs": [],
   "source": [
    "if 'CM' in globals():\n",
    "    del CM\n",
    "CM = ConditionMapper(input_file='data/example.txt', file_number=-1, snomed=Snomed())\n"
   ]
  },
  {
   "cell_type": "markdown",
   "metadata": {},
   "source": [
    "# Delete all mappings\n",
    "Use with caution!"
   ]
  },
  {
   "cell_type": "code",
   "execution_count": null,
   "metadata": {},
   "outputs": [],
   "source": [
    "CM.clear_mapping_files()"
   ]
  }
 ],
 "metadata": {
  "kernelspec": {
   "display_name": ".venv",
   "language": "python",
   "name": "python3"
  },
  "language_info": {
   "codemirror_mode": {
    "name": "ipython",
    "version": 3
   },
   "file_extension": ".py",
   "mimetype": "text/x-python",
   "name": "python",
   "nbconvert_exporter": "python",
   "pygments_lexer": "ipython3",
   "version": "3.12.8"
  }
 },
 "nbformat": 4,
 "nbformat_minor": 2
}
