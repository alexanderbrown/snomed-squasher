{
 "cells": [
  {
   "cell_type": "markdown",
   "metadata": {},
   "source": [
    "This notebook process a text file (specified in `INPUT_FILE`), which should be of the form one search string per line. \n",
    "\n",
    "It attempts to automatically match each line in the file to a SNOMED code. \n",
    "If this is not possible, it will prompt the user to enter a relevant code. \n",
    "\n",
    "Mappings are saved incrementally to `.json` files"
   ]
  },
  {
   "cell_type": "markdown",
   "metadata": {},
   "source": [
    "# Setup"
   ]
  },
  {
   "cell_type": "markdown",
   "metadata": {},
   "source": [
    "## Imports"
   ]
  },
  {
   "cell_type": "code",
   "execution_count": 1,
   "metadata": {},
   "outputs": [],
   "source": [
    "\n",
    "from condition_mapping import ConditionMapper\n",
    "from snomed import Snomed\n",
    "\n",
    "snomed = Snomed()\n"
   ]
  },
  {
   "cell_type": "markdown",
   "metadata": {},
   "source": [
    "# Configuration"
   ]
  },
  {
   "cell_type": "code",
   "execution_count": null,
   "metadata": {},
   "outputs": [],
   "source": [
    "# INPUT_FILE = 'data/inputs_example.txt' # Contains conditions that directly map to SNOMED-CT\n",
    "# INPUT_FILE = 'data/inputs_example_partial.txt' # Contains a condition ('sneez') that does not directly map to SNOMED-CT, but should be a partial match\n",
    "# INPUT_FILE = 'data/inputs_example_unmatchable.txt' # Contains a condition ('abcdefghijklmnopqrstuvwxyz') for which no partial match should be found\n",
    "INPUT_FILE = 'data/amalgamation.txt' \n",
    "\n",
    "CM = ConditionMapper(INPUT_FILE)\n",
    "CM.save_mapping()"
   ]
  },
  {
   "cell_type": "markdown",
   "metadata": {},
   "source": [
    "# Load Data and Automatic Mapping"
   ]
  },
  {
   "cell_type": "code",
   "execution_count": null,
   "metadata": {},
   "outputs": [],
   "source": [
    "CM.automatically_map_conditions(snomed)\n",
    "CM.save_mapping()"
   ]
  },
  {
   "cell_type": "markdown",
   "metadata": {},
   "source": [
    "# Manual Mapping of CUIs"
   ]
  },
  {
   "cell_type": "code",
   "execution_count": null,
   "metadata": {},
   "outputs": [],
   "source": [
    "# This cell runs a loop, asking for manual input of CUIs for unmapped conditions. \n",
    "# To skip a condition, leave the CUI emtpy and press Enter.\n",
    "#\n",
    "# To stop the loop, interrupt the kernel (e.g. press the stop button in Jupyter Notebook), then leave the CUI empty and press Enter.\n",
    "# Any matched CUIs previously entered will still be available in MANUALLY_MAPPED_CUIS.\n",
    "\n",
    "CM.get_user_input_cuis(snomed)\n",
    "CM.save_mapping()"
   ]
  },
  {
   "cell_type": "markdown",
   "metadata": {},
   "source": [
    "# Load - continue from previous session"
   ]
  },
  {
   "cell_type": "code",
   "execution_count": null,
   "metadata": {},
   "outputs": [],
   "source": [
    "CM = ConditionMapper(INPUT_FILE, -1)"
   ]
  }
 ],
 "metadata": {
  "kernelspec": {
   "display_name": ".venv",
   "language": "python",
   "name": "python3"
  },
  "language_info": {
   "codemirror_mode": {
    "name": "ipython",
    "version": 3
   },
   "file_extension": ".py",
   "mimetype": "text/x-python",
   "name": "python",
   "nbconvert_exporter": "python",
   "pygments_lexer": "ipython3",
   "version": "3.12.8"
  }
 },
 "nbformat": 4,
 "nbformat_minor": 2
}
