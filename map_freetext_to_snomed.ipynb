{
 "cells": [
  {
   "cell_type": "markdown",
   "metadata": {},
   "source": [
    "This notebook process a text file (specified in `INPUT_FILE`), which should be of the form one search string per line. \n",
    "\n",
    "It attempts to automatically match each line in the file to a SNOMED code. \n",
    "If this is not possible, it will prompt the user to enter a relevant code. \n",
    "\n",
    "Mappings are saved incrementally to `.json` files"
   ]
  },
  {
   "cell_type": "markdown",
   "metadata": {},
   "source": [
    "# Setup"
   ]
  },
  {
   "cell_type": "markdown",
   "metadata": {},
   "source": [
    "## Imports"
   ]
  },
  {
   "cell_type": "code",
   "execution_count": 3,
   "metadata": {},
   "outputs": [],
   "source": [
    "import glob\n",
    "import os\n",
    "\n",
    "from IPython.display import display, HTML\n",
    "import json\n",
    "import pandas as pd\n",
    "\n",
    "from snomed import Snomed\n",
    "\n",
    "snomed = Snomed()\n"
   ]
  },
  {
   "cell_type": "markdown",
   "metadata": {},
   "source": [
    "## Function Definitions"
   ]
  },
  {
   "cell_type": "markdown",
   "metadata": {},
   "source": [
    "### Loading Data"
   ]
  },
  {
   "cell_type": "code",
   "execution_count": 4,
   "metadata": {},
   "outputs": [],
   "source": [
    "def load_data(file_path: str):\n",
    "    with open(file_path, 'r', encoding='utf-8') as file:\n",
    "        data = file.read().splitlines()\n",
    "    return data"
   ]
  },
  {
   "cell_type": "markdown",
   "metadata": {},
   "source": [
    "### Condition Mapping"
   ]
  },
  {
   "cell_type": "code",
   "execution_count": 5,
   "metadata": {},
   "outputs": [],
   "source": [
    "def automatically_map_conditions(data: list[str], snomed: Snomed):\n",
    "    known = {}\n",
    "    print('Automatically mapping conditions to SNOMED-CT...')\n",
    "    for condition_name in data:\n",
    "        cui = snomed.find_cui(condition_name)\n",
    "        if cui:\n",
    "            known[condition_name] = int(cui)\n",
    "            concept = snomed.get_primary_concept(cui)\n",
    "            print(f'\\t{condition_name} mapped to {concept['name']}')\n",
    "\n",
    "    unknown = [condition for condition in data if condition not in known]\n",
    "    if unknown:\n",
    "        print(len(known), 'conditions mapped to SNOMED-CT.')\n",
    "        print(len(data) - len(known), 'conditions not mapped to SNOMED-CT:')\n",
    "        for condition in unknown:\n",
    "            print(f'\\t{condition}')\n",
    "    else:\n",
    "        print(f'All {len(known)} conditions mapped to SNOMED-CT')\n",
    "\n",
    "    return known, unknown\n",
    "\n",
    "def get_user_input_cui(condition_name: str, snomed: Snomed):\n",
    "    print(f'\\nSearching for partial matches for {condition_name}...')\n",
    "    matches = snomed.find_concepts(condition_name)\n",
    "    if len(matches):\n",
    "        with pd.option_context(\"display.max_rows\", None):\n",
    "            df = matches[matches.name_status=='P'].set_index('cui')\n",
    "            \n",
    "            display(HTML(\"<div style='max-height: 400px; overflow: auto; width: 700px'>\" +\n",
    "                        df[['name']].style.to_html() +\n",
    "                        \"</div>\"), clear=True)\n",
    "    else:\n",
    "        print(f'\\tNo partial matches found for {condition_name}')\n",
    "\n",
    "    return input(f'Enter the CUI for {condition_name}. Suggested options shown below, but you can enter any CUI. Press Enter to skip. ')\n",
    "\n",
    "def get_user_input_cuis(unknown_conditions: list[str], snomed: Snomed):\n",
    "    for condition_name in unknown_conditions:\n",
    "        MANUALLY_MAPPED_CUIS[condition_name] = get_user_input_cui(condition_name, snomed)\n",
    "    \n",
    "def process_manually_mapped_cuis(manually_mapped_cuis: dict[str, str], \n",
    "                                 known_conditions: dict[str, int], \n",
    "                                 unknown_conditions: list[str], \n",
    "                                 snomed: Snomed):\n",
    "    print(f'Manually mapped {len([v for v in manually_mapped_cuis.values() if v])} conditions to SNOMED-CT:')\n",
    "    for raw_name, manual_cui in manually_mapped_cuis.items():\n",
    "        if manual_cui:\n",
    "            try:\n",
    "                cui = int(manual_cui)\n",
    "            except ValueError:\n",
    "                print(f'\\t{manual_cui} is not a valid CUI. Skipping {raw_name}')\n",
    "                continue\n",
    "\n",
    "            concept = snomed.get_primary_concept(cui)\n",
    "            print(f'\\t{raw_name} mapped to {concept['name']} ({cui})')\n",
    "            unknown_conditions.remove(raw_name)\n",
    "            known_conditions[raw_name] = int(cui)\n",
    "\n",
    "    print(f'{len([v for v in manually_mapped_cuis.values() if not v])} conditions skipped:')\n",
    "    for raw_name,manual_cui in manually_mapped_cuis.items():\n",
    "        if not manual_cui:\n",
    "            print(f'\\t{raw_name}')\n",
    "\n",
    "    return known_conditions, unknown_conditions"
   ]
  },
  {
   "cell_type": "markdown",
   "metadata": {},
   "source": [
    "### Saving and Loading mapped concepts"
   ]
  },
  {
   "cell_type": "code",
   "execution_count": 6,
   "metadata": {},
   "outputs": [],
   "source": [
    "def get_mappping_file_path(n: int):\n",
    "    return f'{OUTPUT_LOCATION}_mapped_{n}.json'\n",
    "\n",
    "def get_most_recent_mapping_file() -> int:\n",
    "    existing_output_files = glob.glob(f'{OUTPUT_LOCATION}_mapped_*.json')\n",
    "    if existing_output_files:\n",
    "        return max([int(f.split('_')[-1].replace('.json', '')) for f in existing_output_files])\n",
    "    return 0\n",
    "\n",
    "def save_mapping():\n",
    "    last_mapping_file_number = get_most_recent_mapping_file()\n",
    "    output_file = get_mappping_file_path(last_mapping_file_number + 1)  \n",
    "\n",
    "    print(f'Saving mapping to {output_file}... ', end='')\n",
    "    with open(output_file, 'w', encoding='utf-8') as file:\n",
    "        json.dump({'known': KNOWN_CONDITIONS, 'unknown': UNKNOWN_CONDITIONS}, file, indent=4)\n",
    "    print('Done')\n",
    "\n",
    "def load_mapping_file(n: int):\n",
    "    mapping_file = get_mappping_file_path(n)\n",
    "    print(f'Loading mapping file {mapping_file}... ', end='')\n",
    "    with open(mapping_file, 'r', encoding='utf-8') as file:\n",
    "        mapping = json.load(file)\n",
    "    print('Done')\n",
    "    return mapping['known'], mapping['unknown']\n",
    "\n",
    "def load_most_recent_mapping_file():\n",
    "    last_mapping_file_number = get_most_recent_mapping_file()\n",
    "    if last_mapping_file_number:\n",
    "        return load_mapping_file(last_mapping_file_number)\n",
    "    else:\n",
    "        return None, None\n",
    "\n",
    "def clear_mapping_files():\n",
    "    response = input('Are you sure you want to clear all mapping files? (y/N) ')\n",
    "    if response.lower() == 'y':\n",
    "        existing_output_files = glob.glob(f'{OUTPUT_LOCATION}_mapped_*.json')\n",
    "        for f in existing_output_files:\n",
    "            os.remove(f)"
   ]
  },
  {
   "cell_type": "markdown",
   "metadata": {},
   "source": [
    "# Configuration"
   ]
  },
  {
   "cell_type": "code",
   "execution_count": 27,
   "metadata": {},
   "outputs": [],
   "source": [
    "# INPUT_FILE = 'data/inputs_example.txt' # Contains conditions that directly map to SNOMED-CT\n",
    "# INPUT_FILE = 'data/inputs_example_partial.txt' # Contains a condition ('sneez') that does not directly map to SNOMED-CT, but should be a partial match\n",
    "INPUT_FILE = 'data/inputs_example_unmatchable.txt' # Contains a condition ('abcdefghijklmnopqrstuvwxyz') for which no partial match should be found\n",
    "\n",
    "OUTPUT_LOCATION = os.path.splitext(INPUT_FILE)[0] # Automatically save output to the same location as the input file; can be manually specified to save somewhere else. "
   ]
  },
  {
   "cell_type": "markdown",
   "metadata": {},
   "source": [
    "# Load Data and Automatic Mapping"
   ]
  },
  {
   "cell_type": "code",
   "execution_count": null,
   "metadata": {},
   "outputs": [],
   "source": [
    "UNKNOWN_CONDITIONS = load_data(INPUT_FILE)\n",
    "save_mapping()\n",
    "KNOWN_CONDITIONS, UNKNOWN_CONDITIONS = automatically_map_conditions(UNKNOWN_CONDITIONS, snomed)\n",
    "save_mapping()"
   ]
  },
  {
   "cell_type": "markdown",
   "metadata": {},
   "source": [
    "# Manual Mapping of CUIs"
   ]
  },
  {
   "cell_type": "code",
   "execution_count": null,
   "metadata": {},
   "outputs": [],
   "source": [
    "# This cell runs a loop, asking for manual input of CUIs for unmapped conditions. \n",
    "# To skip a condition, leave the CUI emtpy and press Enter.\n",
    "#\n",
    "# To stop the loop, interrupt the kernel (e.g. press the stop button in Jupyter Notebook), then leave the CUI empty and press Enter.\n",
    "# Any matched CUIs previously entered will still be available in MANUALLY_MAPPED_CUIS.\n",
    "\n",
    "MANUALLY_MAPPED_CUIS = {}\n",
    "get_user_input_cuis(UNKNOWN_CONDITIONS, snomed)\n",
    "display('Done!', clear=True)"
   ]
  },
  {
   "cell_type": "code",
   "execution_count": null,
   "metadata": {},
   "outputs": [],
   "source": [
    "KNOWN_CONDITIONS, UNKNOWN_CONDITIONS = process_manually_mapped_cuis(MANUALLY_MAPPED_CUIS, known_conditions=KNOWN_CONDITIONS, unknown_conditions=UNKNOWN_CONDITIONS, snomed=snomed)\n",
    "save_mapping()\n",
    "if 'MANUALLY_MAPPED_CUIS' in globals():\n",
    "    del MANUALLY_MAPPED_CUIS"
   ]
  },
  {
   "cell_type": "markdown",
   "metadata": {},
   "source": [
    "# Load - continue from previous session"
   ]
  },
  {
   "cell_type": "code",
   "execution_count": null,
   "metadata": {},
   "outputs": [],
   "source": [
    "KNOWN_CONDITIONS, UNKNOWN_CONDITIONS = load_mapping_file(1)"
   ]
  },
  {
   "cell_type": "code",
   "execution_count": null,
   "metadata": {},
   "outputs": [],
   "source": [
    "KNOWN_CONDITIONS, UNKNOWN_CONDITIONS = load_most_recent_mapping_file()"
   ]
  },
  {
   "cell_type": "code",
   "execution_count": 26,
   "metadata": {},
   "outputs": [],
   "source": [
    "# Use with caution... this will delete all mapping files!\n",
    "clear_mapping_files()"
   ]
  },
  {
   "cell_type": "code",
   "execution_count": null,
   "metadata": {},
   "outputs": [],
   "source": [
    "a = input('Press Enter to exit')\n",
    "a"
   ]
  },
  {
   "cell_type": "code",
   "execution_count": null,
   "metadata": {},
   "outputs": [],
   "source": []
  }
 ],
 "metadata": {
  "kernelspec": {
   "display_name": ".venv",
   "language": "python",
   "name": "python3"
  },
  "language_info": {
   "codemirror_mode": {
    "name": "ipython",
    "version": 3
   },
   "file_extension": ".py",
   "mimetype": "text/x-python",
   "name": "python",
   "nbconvert_exporter": "python",
   "pygments_lexer": "ipython3",
   "version": "3.12.4"
  }
 },
 "nbformat": 4,
 "nbformat_minor": 2
}
