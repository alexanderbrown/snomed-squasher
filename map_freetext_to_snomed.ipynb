{
 "cells": [
  {
   "cell_type": "markdown",
   "metadata": {},
   "source": [
    "This notebook process a text file (specified in `INPUT_FILE`), which should be of the form one search string per line. \n",
    "\n",
    "It attempts to automatically match each line in the file to a SNOMED code. \n",
    "If this is not possible, it will prompt the user to enter a relevant code. \n",
    "\n",
    "Mappings are saved incrementally to `.json` files"
   ]
  },
  {
   "cell_type": "markdown",
   "metadata": {},
   "source": [
    "# Setup"
   ]
  },
  {
   "cell_type": "markdown",
   "metadata": {},
   "source": [
    "## Imports"
   ]
  },
  {
   "cell_type": "code",
   "execution_count": 1,
   "metadata": {},
   "outputs": [],
   "source": [
    "\n",
    "from condition_mapping import ConditionMapper\n",
    "from snomed import Snomed\n",
    "\n",
    "snomed = Snomed()\n"
   ]
  },
  {
   "cell_type": "markdown",
   "metadata": {},
   "source": [
    "## Function Definitions"
   ]
  },
  {
   "cell_type": "markdown",
   "metadata": {},
   "source": [
    "# Configuration"
   ]
  },
  {
   "cell_type": "code",
   "execution_count": 2,
   "metadata": {},
   "outputs": [
    {
     "name": "stdout",
     "output_type": "stream",
     "text": [
      "Saving mapping to data/inputs_example_amalgamation_mapped_5.json... Done\n"
     ]
    }
   ],
   "source": [
    "# INPUT_FILE = 'data/inputs_example.txt' # Contains conditions that directly map to SNOMED-CT\n",
    "# INPUT_FILE = 'data/inputs_example_partial.txt' # Contains a condition ('sneez') that does not directly map to SNOMED-CT, but should be a partial match\n",
    "# INPUT_FILE = 'data/inputs_example_unmatchable.txt' # Contains a condition ('abcdefghijklmnopqrstuvwxyz') for which no partial match should be found\n",
    "INPUT_FILE = 'data/inputs_example_amalgamation.txt' \n",
    "\n",
    "CM = ConditionMapper(INPUT_FILE)\n",
    "CM.save_mapping()"
   ]
  },
  {
   "cell_type": "markdown",
   "metadata": {},
   "source": [
    "# Load Data and Automatic Mapping"
   ]
  },
  {
   "cell_type": "code",
   "execution_count": 3,
   "metadata": {},
   "outputs": [
    {
     "name": "stdout",
     "output_type": "stream",
     "text": [
      "Automatically mapping conditions to SNOMED-CT...\n",
      "\tBronchiolitis mapped to Bronchiolitis (disorder)\n",
      "\tPneumonia mapped to Pneumonia (disorder)\n",
      "\tLower Respiratory Tract Infection mapped to Lower respiratory tract infection (disorder)\n",
      "\tStatus epilepticus mapped to Status epilepticus (finding)\n",
      "\tDravet Syndrome mapped to Severe myoclonic epilepsy in infancy (disorder)\n",
      "\tLennox-Gastaut Syndrome mapped to Lennox-Gastaut syndrome (disorder)\n",
      "\tMyoclonic encephalopathy mapped to Myoclonic encephalopathy (disorder)\n",
      "\tAcute Bronchiolitis mapped to Acute bronchiolitis (disorder)\n",
      "\tRespiratory syncytial virus bronchiolitis mapped to Respiratory syncytial virus bronchiolitis (disorder)\n",
      "9 conditions mapped to SNOMED-CT.\n",
      "2 conditions not mapped to SNOMED-CT:\n",
      "\tchest infection\n",
      "\tInfantile Spasms\n",
      "Saving mapping to data/inputs_example_amalgamation_mapped_6.json... Done\n"
     ]
    }
   ],
   "source": [
    "CM.automatically_map_conditions(snomed)\n",
    "CM.save_mapping()"
   ]
  },
  {
   "cell_type": "markdown",
   "metadata": {},
   "source": [
    "# Manual Mapping of CUIs"
   ]
  },
  {
   "cell_type": "code",
   "execution_count": 6,
   "metadata": {},
   "outputs": [
    {
     "data": {
      "text/plain": [
       "'Manually mapped 0 conditions to SNOMED-CT:'"
      ]
     },
     "metadata": {},
     "output_type": "display_data"
    },
    {
     "name": "stdout",
     "output_type": "stream",
     "text": [
      "0 conditions skipped:\n"
     ]
    }
   ],
   "source": [
    "# This cell runs a loop, asking for manual input of CUIs for unmapped conditions. \n",
    "# To skip a condition, leave the CUI emtpy and press Enter.\n",
    "#\n",
    "# To stop the loop, interrupt the kernel (e.g. press the stop button in Jupyter Notebook), then leave the CUI empty and press Enter.\n",
    "# Any matched CUIs previously entered will still be available in MANUALLY_MAPPED_CUIS.\n",
    "\n",
    "CM.get_user_input_cuis(snomed)\n"
   ]
  },
  {
   "cell_type": "markdown",
   "metadata": {},
   "source": [
    "# Load - continue from previous session"
   ]
  },
  {
   "cell_type": "code",
   "execution_count": null,
   "metadata": {},
   "outputs": [],
   "source": [
    "KNOWN_CONDITIONS, UNKNOWN_CONDITIONS = load_mapping_file(1)"
   ]
  },
  {
   "cell_type": "code",
   "execution_count": null,
   "metadata": {},
   "outputs": [],
   "source": [
    "KNOWN_CONDITIONS, UNKNOWN_CONDITIONS = load_most_recent_mapping_file()"
   ]
  },
  {
   "cell_type": "code",
   "execution_count": 18,
   "metadata": {},
   "outputs": [],
   "source": [
    "# Use with caution... this will delete all mapping files!\n",
    "CM.clear_mapping_files()"
   ]
  },
  {
   "cell_type": "code",
   "execution_count": null,
   "metadata": {},
   "outputs": [],
   "source": [
    "a = input('Press Enter to exit')\n",
    "a"
   ]
  }
 ],
 "metadata": {
  "kernelspec": {
   "display_name": ".venv",
   "language": "python",
   "name": "python3"
  },
  "language_info": {
   "codemirror_mode": {
    "name": "ipython",
    "version": 3
   },
   "file_extension": ".py",
   "mimetype": "text/x-python",
   "name": "python",
   "nbconvert_exporter": "python",
   "pygments_lexer": "ipython3",
   "version": "3.12.4"
  }
 },
 "nbformat": 4,
 "nbformat_minor": 2
}
